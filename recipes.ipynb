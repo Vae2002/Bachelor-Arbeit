{
 "cells": [
  {
   "cell_type": "code",
   "execution_count": 37,
   "metadata": {},
   "outputs": [
    {
     "name": "stdout",
     "output_type": "stream",
     "text": [
      "Detected encoding: ascii\n",
      "Detected encoding: utf-8\n",
      "Detected encoding: utf-8\n"
     ]
    }
   ],
   "source": [
    "import chardet\n",
    "\n",
    "with open(\"datasets/german_recipes.json\", \"rb\") as f:\n",
    "    raw_data = f.read(100000)  \n",
    "    result = chardet.detect(raw_data)\n",
    "\n",
    "print(\"Detected encoding:\", result[\"encoding\"])\n",
    "\n",
    "with open(\"datasets/recipes_with_images.csv\", \"rb\") as f:\n",
    "    raw_data = f.read(100000)  \n",
    "    result = chardet.detect(raw_data)\n",
    "\n",
    "print(\"Detected encoding:\", result[\"encoding\"])\n",
    "\n",
    "with open(\"datasets/special_diet_recipes.csv\", \"rb\") as f:\n",
    "    raw_data = f.read(100000)  \n",
    "    result = chardet.detect(raw_data)\n",
    "\n",
    "print(\"Detected encoding:\", result[\"encoding\"])\n"
   ]
  },
  {
   "cell_type": "code",
   "execution_count": 38,
   "metadata": {},
   "outputs": [],
   "source": [
    "import pandas as pd\n",
    " \n",
    "df_rezepte = pd.read_json(\"datasets/german_recipes.json\", encoding=\"ascii\", encoding_errors=\"replace\") \n",
    "df_recipes = pd.read_csv(\"datasets/recipes_with_images.csv\", encoding=\"utf-8\", encoding_errors=\"replace\") \n",
    "df_diet = pd.read_csv(\"datasets/special_diet_recipes.csv\", encoding=\"utf-8\", encoding_errors=\"replace\") "
   ]
  },
  {
   "cell_type": "code",
   "execution_count": 39,
   "metadata": {},
   "outputs": [
    {
     "name": "stdout",
     "output_type": "stream",
     "text": [
      "                                                 Url  \\\n",
      "0   https://www.chefkoch.de/rezepte/185441079701305/   \n",
      "1  https://www.chefkoch.de/rezepte/2718181424631245/   \n",
      "2    https://www.chefkoch.de/rezepte/46341015661368/   \n",
      "3    https://www.chefkoch.de/rezepte/51051018014178/   \n",
      "4  https://www.chefkoch.de/rezepte/1555771262860408/   \n",
      "5   https://www.chefkoch.de/rezepte/318661113606205/   \n",
      "6   https://www.chefkoch.de/rezepte/307991111110164/   \n",
      "7   https://www.chefkoch.de/rezepte/800291183649658/   \n",
      "8   https://www.chefkoch.de/rezepte/295691108953224/   \n",
      "9    https://www.chefkoch.de/rezepte/44381015086527/   \n",
      "\n",
      "                                        Instructions  \\\n",
      "0  Die Eier hart kochen. Dann pellen und mit eine...   \n",
      "1  Vorab folgende Bemerkung: Alle Mengen sind Cir...   \n",
      "2  Die Kirschen abtropfen lassen, dabei den Saft ...   \n",
      "3  Den Spargel säubern, die holzigen Enden abschn...   \n",
      "4  Kohlrabi schälen und klein würfeln. Mit der Br...   \n",
      "5  Aus dem Mehl, der Butter, dem Ei und etwas Sal...   \n",
      "6  Das Öl mit dem Rotwein, dem Essig, den Wachold...   \n",
      "7  Den Reis mit 2 Tassen Wasser/Gemüsebrühe aufse...   \n",
      "8  Kartoffeln schälen, waschen, vierteln und in k...   \n",
      "9  Kartoffeln, Steckrüben, Sellerie und Zwiebel s...   \n",
      "\n",
      "                                         Ingredients  Day  \\\n",
      "0  [600 g Hackfleisch, halb und halb, 800 g Sauer...    1   \n",
      "1  [1 kg Strauchtomate(n), 1 Gemüsezwiebel(n), 1 ...    1   \n",
      "2  [1 Glas Kirsche(n), 1 Pck. Vanillepuddingpulve...    1   \n",
      "3  [500 g Spargel, grüner, 300 ml Brühe oder Fond...    1   \n",
      "4  [250 g Kohlrabi, 150 ml Gemüsebrühe, 150 ml Mi...    1   \n",
      "5  [Für den Mürbeteig:, 200 g Weizenmehl, 100 g B...    1   \n",
      "6  [Für die Marinade:, 3 EL Öl, 5 EL Rotwein, 2 E...    1   \n",
      "7  [1 Tasse Reis, (Langkornreis), 2 Tasse/n Wasse...    1   \n",
      "8  [1200 g Kartoffel(n), mehlig kochend, 250 ml M...    1   \n",
      "9  [400 g Kartoffel(n), 300 g Steckrübe(n), 300 g...    1   \n",
      "\n",
      "                                          Name  Year     Month    Weekday  \n",
      "0                       Gebratener Hasenrücken  2009   January   Thursday  \n",
      "1                              Pilz Stroganoff  2017      July   Saturday  \n",
      "2                         Kaninchen a la Gioff  2007   January     Monday  \n",
      "3               Spanisches Knoblauch-Kaninchen  2013     April     Monday  \n",
      "4        Gnocchi - Hack - Pfanne mit Basilikum  2017    August    Tuesday  \n",
      "5                         Spaghetti Siracusani  2011    August     Monday  \n",
      "6  Rehrücken in Salzkruste mit Waldpilzgulasch  2006   October     Sunday  \n",
      "7                            Eier in Senfsauce  2012     March   Thursday  \n",
      "8                        Äppelufflaaf mett Woi  2006     April   Saturday  \n",
      "9                    Gefüllte Schinkenröllchen  2006  November  Wednesday  \n"
     ]
    }
   ],
   "source": [
    "print(df_rezepte.head(10))"
   ]
  },
  {
   "cell_type": "code",
   "execution_count": 40,
   "metadata": {},
   "outputs": [
    {
     "name": "stdout",
     "output_type": "stream",
     "text": [
      "   Unnamed: 0                                              Title  \\\n",
      "0           0  Miso-Butter Roast Chicken With Acorn Squash Pa...   \n",
      "1           1                    Crispy Salt and Pepper Potatoes   \n",
      "2           2                        Thanksgiving Mac and Cheese   \n",
      "3           3                 Italian Sausage and Bread Stuffing   \n",
      "4           4                                       Newton's Law   \n",
      "5           5                                       Warm Comfort   \n",
      "6           6                                 Apples and Oranges   \n",
      "7           7                                 Turmeric Hot Toddy   \n",
      "8           8                            Instant Pot Lamb Haleem   \n",
      "9           9     Spiced Lentil and Caramelized Onion Baked Eggs   \n",
      "\n",
      "                                         Ingredients  \\\n",
      "0  ['1 (3½–4-lb.) whole chicken', '2¾ tsp. kosher...   \n",
      "1  ['2 large egg whites', '1 pound new potatoes (...   \n",
      "2  ['1 cup evaporated milk', '1 cup whole milk', ...   \n",
      "3  ['1 (¾- to 1-pound) round Italian loaf, cut in...   \n",
      "4  ['1 teaspoon dark brown sugar', '1 teaspoon ho...   \n",
      "5  ['2 chamomile tea bags', '1½ oz. reposado tequ...   \n",
      "6  ['3 oz. Grand Marnier', '1 oz. Amaro Averna', ...   \n",
      "7  ['¼ cup granulated sugar', '¾ tsp. ground turm...   \n",
      "8  ['¾ cup assorted dals (such as chana dal, moon...   \n",
      "9  ['1 (14.5-ounce) can basic lentil soup, like A...   \n",
      "\n",
      "                                        Instructions  \\\n",
      "0  Pat chicken dry with paper towels, season all ...   \n",
      "1  Preheat oven to 400°F and line a rimmed baking...   \n",
      "2  Place a rack in middle of oven; preheat to 400...   \n",
      "3  Preheat oven to 350°F with rack in middle. Gen...   \n",
      "4  Stir together brown sugar and hot water in a c...   \n",
      "5  Place 2 chamomile tea bags in a heatsafe vesse...   \n",
      "6  Add 3 oz. Grand Marnier, 1 oz. Amaro Averna, a...   \n",
      "7  For the turmeric syrup, combine ½ cup hot wate...   \n",
      "8  Combine dals, rice, and barley in a medium bow...   \n",
      "9  Place an oven rack in the center of the oven, ...   \n",
      "\n",
      "                                          Image_Name  \\\n",
      "0  miso-butter-roast-chicken-acorn-squash-panzanella   \n",
      "1         crispy-salt-and-pepper-potatoes-dan-kluger   \n",
      "2         thanksgiving-mac-and-cheese-erick-williams   \n",
      "3          italian-sausage-and-bread-stuffing-240559   \n",
      "4                 newtons-law-apple-bourbon-cocktail   \n",
      "5               warm-comfort-tequila-chamomile-toddy   \n",
      "6                    apples-and-oranges-spiked-cider   \n",
      "7                  turmeric-hot-toddy-claire-sprouse   \n",
      "8                            instant-pot-lamb-haleem   \n",
      "9     spiced-lentil-and-caramelized-onion-baked-eggs   \n",
      "\n",
      "                                 Cleaned_Ingredients  \n",
      "0  ['1 (3½–4-lb.) whole chicken', '2¾ tsp. kosher...  \n",
      "1  ['2 large egg whites', '1 pound new potatoes (...  \n",
      "2  ['1 cup evaporated milk', '1 cup whole milk', ...  \n",
      "3  ['1 (¾- to 1-pound) round Italian loaf, cut in...  \n",
      "4  ['1 teaspoon dark brown sugar', '1 teaspoon ho...  \n",
      "5  ['2 chamomile tea bags', '1½ oz. reposado tequ...  \n",
      "6  ['3 oz. Grand Marnier', '1 oz. Amaro Averna', ...  \n",
      "7  ['¼ cup granulated sugar', '¾ tsp. ground turm...  \n",
      "8  ['¾ cup assorted dals (such as chana dal, moon...  \n",
      "9  ['1 (14.5-ounce) can basic lentil soup, like A...  \n"
     ]
    }
   ],
   "source": [
    "print(df_recipes.head(10))"
   ]
  },
  {
   "cell_type": "code",
   "execution_count": 41,
   "metadata": {},
   "outputs": [
    {
     "name": "stdout",
     "output_type": "stream",
     "text": [
      "  Diet_type                                        Recipe_name  \\\n",
      "0     paleo                    Bone Broth From 'Nom Nom Paleo'   \n",
      "1     paleo  Paleo Effect Asian-Glazed Pork Sides, A Sweet ...   \n",
      "2     paleo                                  Paleo Pumpkin Pie   \n",
      "3     paleo                       Strawberry Guacamole recipes   \n",
      "4     paleo  Asian Cauliflower Fried \"Rice\" From 'Nom Nom P...   \n",
      "5     paleo             Paleo Shrimp-Stuffed Mushrooms recipes   \n",
      "6     paleo                          Paleo Pumpkin Pie recipes   \n",
      "7     paleo                             Autoimmune Paleo Pesto   \n",
      "8     paleo           Baked Banana Chip Encrusted French Toast   \n",
      "9     paleo       Vietnamese Pho Pressure Cooker (Noodle Soup)   \n",
      "\n",
      "       Cuisine_type  Protein(g)  Carbs(g)  Fat(g) Extraction_day  \\\n",
      "0          american        5.22      1.29    3.20     2022-10-16   \n",
      "1  south east asian      181.55     28.62  146.14     2022-10-16   \n",
      "2          american       30.91    302.59   96.76     2022-10-16   \n",
      "3           mexican        9.62     75.78   59.89     2022-10-16   \n",
      "4           chinese       39.84     54.08   71.55     2022-10-16   \n",
      "5     mediterranean       68.62     34.15   42.44     2022-10-16   \n",
      "6          american       30.03    275.88   97.68     2022-10-16   \n",
      "7           italian        4.25     14.15   72.90     2022-10-16   \n",
      "8            french      152.88   1874.52  385.80     2022-10-16   \n",
      "9  south east asian      602.91    274.87  400.01     2022-10-16   \n",
      "\n",
      "  Extraction_time  \n",
      "0        17:20:09  \n",
      "1        17:20:09  \n",
      "2        17:20:09  \n",
      "3        17:20:09  \n",
      "4        17:20:09  \n",
      "5        17:20:09  \n",
      "6        17:20:09  \n",
      "7        17:20:09  \n",
      "8        17:20:09  \n",
      "9        17:20:09  \n"
     ]
    }
   ],
   "source": [
    "print(df_diet.head(10))"
   ]
  },
  {
   "cell_type": "code",
   "execution_count": 42,
   "metadata": {},
   "outputs": [
    {
     "name": "stdout",
     "output_type": "stream",
     "text": [
      "Url             object\n",
      "Instructions    object\n",
      "Ingredients     object\n",
      "Day              int64\n",
      "Name            object\n",
      "Year             int64\n",
      "Month           object\n",
      "Weekday         object\n",
      "dtype: object\n",
      "NaN Values: 0\n"
     ]
    }
   ],
   "source": [
    "print(df_rezepte.dtypes)\n",
    "print(f\"NaN Values: {df_rezepte.isna().sum().sum()}\")"
   ]
  },
  {
   "cell_type": "code",
   "execution_count": 43,
   "metadata": {},
   "outputs": [
    {
     "name": "stdout",
     "output_type": "stream",
     "text": [
      "Unnamed: 0              int64\n",
      "Title                  object\n",
      "Ingredients            object\n",
      "Instructions           object\n",
      "Image_Name             object\n",
      "Cleaned_Ingredients    object\n",
      "dtype: object\n",
      "NaN Values: 13\n"
     ]
    }
   ],
   "source": [
    "print(df_recipes.dtypes)\n",
    "print(f\"NaN Values: {df_recipes.isna().sum().sum()}\")"
   ]
  },
  {
   "cell_type": "code",
   "execution_count": 44,
   "metadata": {},
   "outputs": [
    {
     "name": "stdout",
     "output_type": "stream",
     "text": [
      "Diet_type           object\n",
      "Recipe_name         object\n",
      "Cuisine_type        object\n",
      "Protein(g)         float64\n",
      "Carbs(g)           float64\n",
      "Fat(g)             float64\n",
      "Extraction_day      object\n",
      "Extraction_time     object\n",
      "dtype: object\n",
      "NaN Values: 0\n"
     ]
    }
   ],
   "source": [
    "print(df_diet.dtypes)\n",
    "print(f\"NaN Values: {df_diet.isna().sum().sum()}\")"
   ]
  }
 ],
 "metadata": {
  "kernelspec": {
   "display_name": "Python 3",
   "language": "python",
   "name": "python3"
  },
  "language_info": {
   "codemirror_mode": {
    "name": "ipython",
    "version": 3
   },
   "file_extension": ".py",
   "mimetype": "text/x-python",
   "name": "python",
   "nbconvert_exporter": "python",
   "pygments_lexer": "ipython3",
   "version": "3.12.0"
  }
 },
 "nbformat": 4,
 "nbformat_minor": 2
}
