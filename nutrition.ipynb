{
 "cells": [
  {
   "cell_type": "code",
   "execution_count": 7,
   "metadata": {},
   "outputs": [
    {
     "name": "stdout",
     "output_type": "stream",
     "text": [
      "Detected encoding: utf-8\n"
     ]
    }
   ],
   "source": [
    "import chardet\n",
    "\n",
    "with open(\"datasets/foodstruct_nutritional_facts.csv\", \"rb\") as f:\n",
    "    raw_data = f.read(100000)  \n",
    "    result = chardet.detect(raw_data)\n",
    "\n",
    "print(\"Detected encoding:\", result[\"encoding\"])"
   ]
  },
  {
   "cell_type": "code",
   "execution_count": 8,
   "metadata": {},
   "outputs": [
    {
     "name": "stdout",
     "output_type": "stream",
     "text": [
      "       Food Name Category Name  Calcium  Calories  Carbs  Cholesterol  \\\n",
      "0        Acerola        Fruits    0.012      32.0    7.7          0.0   \n",
      "1          Apple        Fruits    0.006      52.0   14.0          0.0   \n",
      "2        Apricot        Fruits    0.013      48.0   11.0          0.0   \n",
      "3    Dried fruit        Fruits    0.055     241.0   63.0          0.0   \n",
      "4        Avocado        Fruits    0.012     160.0    8.5          0.0   \n",
      "5         Banana        Fruits    0.005      89.0   23.0          0.0   \n",
      "6     Blackberry        Fruits    0.029      43.0    9.6          0.0   \n",
      "7      Blueberry        Fruits    0.006      57.0   14.0          0.0   \n",
      "8  Boysenberries        Fruits    0.027      50.0   12.0          0.0   \n",
      "9     Breadfruit        Fruits    0.017     103.0   27.0          0.0   \n",
      "\n",
      "    Copper   Fats  Fiber    Folate  ...  Vitamin D  Vitamin E     Vitamin K  \\\n",
      "0  0.00009   0.30    1.1  0.000014  ...        NaN        NaN           NaN   \n",
      "1  0.00003   0.17    2.4  0.000003  ...        0.0    0.00018  2.200000e-06   \n",
      "2  0.00008   0.39    2.0  0.000009  ...        0.0    0.00089  3.300000e-06   \n",
      "3  0.00034   0.51    7.3  0.000010  ...        0.0    0.00430  3.100000e-06   \n",
      "4  0.00019  15.00    6.7  0.000081  ...        0.0    0.00210  2.100000e-05   \n",
      "5  0.00008   0.33    2.6  0.000020  ...        0.0    0.00010  5.000000e-07   \n",
      "6  0.00017   0.49    5.3  0.000025  ...        0.0    0.00120  2.000000e-05   \n",
      "7  0.00006   0.33    2.4  0.000006  ...        0.0    0.00057  1.900000e-05   \n",
      "8  0.00008   0.26    5.3  0.000063  ...        0.0    0.00087  7.800000e-06   \n",
      "9  0.00008   0.23    4.9  0.000014  ...        0.0    0.00010  5.000000e-07   \n",
      "\n",
      "   Omega-3 - ALA  Omega-6 - Eicosadienoic acid  Omega-6 - Gamma-linoleic acid  \\\n",
      "0            NaN                           NaN                            NaN   \n",
      "1            NaN                           NaN                            NaN   \n",
      "2            NaN                           NaN                            NaN   \n",
      "3            NaN                           NaN                            NaN   \n",
      "4           0.11                           0.0                           0.02   \n",
      "5            NaN                           NaN                            NaN   \n",
      "6            NaN                           NaN                            NaN   \n",
      "7            NaN                           NaN                            NaN   \n",
      "8            NaN                           NaN                            NaN   \n",
      "9            NaN                           NaN                            NaN   \n",
      "\n",
      "   Omega-3 - Eicosatrienoic acid  Omega-6 - Dihomo-gamma-linoleic acid  \\\n",
      "0                            NaN                                   NaN   \n",
      "1                            NaN                                   NaN   \n",
      "2                            NaN                                   NaN   \n",
      "3                            NaN                                   NaN   \n",
      "4                            NaN                                   NaN   \n",
      "5                            NaN                                   NaN   \n",
      "6                            NaN                                   NaN   \n",
      "7                            NaN                                   NaN   \n",
      "8                            NaN                                   NaN   \n",
      "9                            NaN                                   NaN   \n",
      "\n",
      "   Omega-6 - Linoleic acid  Omega-6 - Arachidonic acid  \n",
      "0                      NaN                         NaN  \n",
      "1                      NaN                         NaN  \n",
      "2                      NaN                         NaN  \n",
      "3                      NaN                         NaN  \n",
      "4                      NaN                         NaN  \n",
      "5                      NaN                         NaN  \n",
      "6                      NaN                         NaN  \n",
      "7                      NaN                         NaN  \n",
      "8                      NaN                         NaN  \n",
      "9                      NaN                         NaN  \n",
      "\n",
      "[10 rows x 59 columns]\n"
     ]
    }
   ],
   "source": [
    "import pandas as pd\n",
    "\n",
    "df = pd.read_csv(\"datasets/foodstruct_nutritional_facts.csv\", encoding=\"utf-8\", encoding_errors=\"replace\") \n",
    "\n",
    "print(df.head(10))"
   ]
  }
 ],
 "metadata": {
  "kernelspec": {
   "display_name": "Python 3",
   "language": "python",
   "name": "python3"
  },
  "language_info": {
   "codemirror_mode": {
    "name": "ipython",
    "version": 3
   },
   "file_extension": ".py",
   "mimetype": "text/x-python",
   "name": "python",
   "nbconvert_exporter": "python",
   "pygments_lexer": "ipython3",
   "version": "3.12.0"
  }
 },
 "nbformat": 4,
 "nbformat_minor": 2
}
